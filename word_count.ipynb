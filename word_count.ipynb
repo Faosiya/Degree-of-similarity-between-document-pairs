{
 "cells": [
  {
   "cell_type": "code",
   "execution_count": 5,
   "metadata": {},
   "outputs": [],
   "source": [
    "# write the notebook filepath here\n",
    "# make sure that the notebook is also in the same directory as this code\n",
    "filepath=\"ADS_Faosiyat_Final wrap.ipynb\""
   ]
  },
  {
   "cell_type": "code",
   "execution_count": 6,
   "metadata": {},
   "outputs": [
    {
     "name": "stdout",
     "output_type": "stream",
     "text": [
      "Submission length is 1500\n"
     ]
    }
   ],
   "source": [
    "import io\n",
    "from nbformat import read\n",
    "with io.open(filepath, \"r\", encoding=\"utf-8\") as f:\n",
    "    nb=read(f, 4)\n",
    "word_count = 0\n",
    "for cell in nb[\"cells\"]:\n",
    "    if cell.cell_type == \"markdown\":\n",
    "        word_count += len(cell[\"source\"].replace(\"#\", \"\").lstrip().split(\" \"))\n",
    "print(f\"Submission length is {word_count}\")"
   ]
  },
  {
   "cell_type": "code",
   "execution_count": null,
   "metadata": {},
   "outputs": [],
   "source": []
  }
 ],
 "metadata": {
  "kernelspec": {
   "display_name": "Python 3 (ipykernel)",
   "language": "python",
   "name": "python3"
  },
  "language_info": {
   "codemirror_mode": {
    "name": "ipython",
    "version": 3
   },
   "file_extension": ".py",
   "mimetype": "text/x-python",
   "name": "python",
   "nbconvert_exporter": "python",
   "pygments_lexer": "ipython3",
   "version": "3.11.5"
  }
 },
 "nbformat": 4,
 "nbformat_minor": 2
}
